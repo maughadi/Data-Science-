{
 "cells": [
  {
   "cell_type": "markdown",
   "id": "2fd10860-3b47-4379-a053-a6611e6fb2f8",
   "metadata": {
    "editable": true,
    "slideshow": {
     "slide_type": ""
    },
    "tags": []
   },
   "source": [
    "# Exercise-2 \n",
    "## Markdown\n",
    "My Data Science Assignment"
   ]
  },
  {
   "cell_type": "markdown",
   "id": "f1b8402a-194c-48dc-8e45-4bb4f05182ff",
   "metadata": {},
   "source": [
    "# Exercise-3\n",
    "## Introduction\n",
    "Data science is the field of study that combines statistics, programming, and domain knowledge to extract meaningful insights from data."
   ]
  },
  {
   "cell_type": "markdown",
   "id": "2aa32457-4394-4257-9981-27aedf41ca88",
   "metadata": {},
   "source": [
    "# Exercise-4 \n",
    "## Data Scinence Lamguages\n",
    "- Python  \r\n",
    "- R  \r\n",
    "- SQL  \r\n",
    "- Julia  \r\n",
    "- Scala  \r\n",
    "- Java  \r\n",
    "- MATLAB"
   ]
  },
  {
   "cell_type": "markdown",
   "id": "f4339460-c2ef-43ff-b0bd-6066255a860f",
   "metadata": {},
   "source": [
    "# Exercise-5\n",
    "## Data Science Libraries\r",
    "NumPy : Used for numerical calculations  \r",
    " Panda s: Used for handling and analyzing data  - Matplotl ib: Used for making graphs and charts \n",
    "- Seab orn: Used for creating beautiful visualizations\r\n",
    "- Sc ikit-learn: Used for machine learnin \r\n",
    "- Tenso rFlow: Used for deep learni  \r\n",
    "-  Keras: Used to build neural networks easy  \r\n",
    "-  PyTorch: Used for advanced deep learning tks   \r\n",
    "- NLTK: Used for working with textata  \r\n",
    "- St atsmodels: Used for statistics and data analysis\n",
    "al modeling"
   ]
  },
  {
   "cell_type": "markdown",
   "id": "0d5f6b8d-90cf-4acc-8a3c-99462d851da4",
   "metadata": {},
   "source": [
    "# Exercise - 6\n",
    "## Data Science Tools:\n",
    "Jupyter Notebook – Used to write and run code with results shown below the code.\n",
    "RStudio – A tool to write and run R programs for data analysis.\n",
    "VS Code – A simple editor to write code in many languages like Python or R.\n",
    "Apache Spark – Helps to process large amounts of data quickly.\n",
    "Tableau – Makes charts and dashboards to show data clearly.\n",
    "TensorFlow – Used to build smart machine learning models analysis"
   ]
  },
  {
   "cell_type": "markdown",
   "id": "19c05540-83ce-4916-9328-7d9779127e1f",
   "metadata": {},
   "source": [
    "# Exercise - 7\n",
    "## Arithmetic Expression Examples\r",
    "\r\n",
    "In the next code cells, we will show examples of basic arithmetic operations such as addition and multiplication."
   ]
  },
  {
   "cell_type": "code",
   "execution_count": 1,
   "id": "e75432f3-ab1f-47f4-9d6b-90500ff835c4",
   "metadata": {},
   "outputs": [
    {
     "name": "stdout",
     "output_type": "stream",
     "text": [
      "Sum: 8\n",
      "Product: 15\n"
     ]
    }
   ],
   "source": [
    "# Exercise - 8\n",
    "## Code to multiple and add number\n",
    "# Example of arithmetic operations\n",
    "a = 5\n",
    "b = 3\n",
    "\n",
    "# Addition\n",
    "sum_result = a + b\n",
    "print(\"Sum:\", sum_result)\n",
    "\n",
    "# Multiplication\n",
    "product_result = a * b\n",
    "print(\"Product:\", product_result)"
   ]
  },
  {
   "cell_type": "code",
   "execution_count": 2,
   "id": "47c21479-eaf3-4f8c-9c74-54f96d2e9ce0",
   "metadata": {},
   "outputs": [
    {
     "name": "stdout",
     "output_type": "stream",
     "text": [
      "Hours: 2.5\n"
     ]
    }
   ],
   "source": [
    "# Exercise 9 \n",
    "## Code cell to convert minutes to hours\n",
    "\n",
    "# Convert minutes to hours\n",
    "minutes = 150\n",
    "hours = minutes / 60\n",
    "print(\"Hours:\", hours)"
   ]
  },
  {
   "cell_type": "markdown",
   "id": "e8364eca-3481-4506-889c-81a9d6064c85",
   "metadata": {},
   "source": [
    "# Exercise 10 - Markdown cell to list Objectives\n",
    "## Objectives\n",
    "\n",
    "- Understand what Data Science is  \n",
    "- Learn about common Data Science languages and tools  \n",
    "- Explore basic arithmetic operations in Python  \n",
    "- Practice converting time units (minutes to hours)  \n",
    "- Familiarize with markdown and code cells in Jupyter Notebook\n"
   ]
  },
  {
   "cell_type": "markdown",
   "id": "9d5ec64d-15c4-45ef-b3d2-04af72b947de",
   "metadata": {},
   "source": [
    "# Exercise 11 - Markdown cell to indicate the Author’s name\n",
    "## Author\n",
    "**Name** : Mayuri Bhikaji Ghadi."
   ]
  }
 ],
 "metadata": {
  "kernelspec": {
   "display_name": "anaconda-ai-2024.04-py310",
   "language": "python",
   "name": "conda-env-anaconda-ai-2024.04-py310-py"
  },
  "language_info": {
   "codemirror_mode": {
    "name": "ipython",
    "version": 3
   },
   "file_extension": ".py",
   "mimetype": "text/x-python",
   "name": "python",
   "nbconvert_exporter": "python",
   "pygments_lexer": "ipython3",
   "version": "3.10.13"
  }
 },
 "nbformat": 4,
 "nbformat_minor": 5
}
